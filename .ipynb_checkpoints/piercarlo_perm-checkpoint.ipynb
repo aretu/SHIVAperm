{
 "cells": [
  {
   "cell_type": "code",
   "execution_count": 140,
   "metadata": {},
   "outputs": [
    {
     "data": {
      "text/plain": [
       "[<matplotlib.lines.Line2D at 0x1a3ee625d60>]"
      ]
     },
     "execution_count": 140,
     "metadata": {},
     "output_type": "execute_result"
    }
   ],
   "source": [
    "# Load the Pandas libraries with alias 'pd' \n",
    "import pandas as pd \n",
    "import matplotlib.pyplot as plt\n",
    "import numpy as np\n",
    "\n",
    "# file=\"C:/Users/stear/piermeability/s1825ISCO_001\"\n",
    "file=\"C:/Users/stear/piermeability/s1827_ISCO_001\"\n",
    "\n",
    "data = pd.read_csv(file,usecols =[1,2,3,4,5,6,7]) \n",
    "# Preview the first 5 lines of the loaded data \n",
    "# data.head()\n",
    "data=pd.read_csv(file,usecols=[1,2,3,4,5,6,7])\n",
    "\n",
    "data=data.to_numpy()\n",
    "\n",
    "#remember that original time unit is in days starting from 1 Jan 1900\n",
    "Time = data[:,0]\n",
    "Time = (Time-Time[0])*24*3600;\n",
    "\n",
    "#remember that original pressure units are kPa, flow units are mL/min, volume units mL\n",
    "#output units a Pa, m^3/s and m^3, respectively\n",
    "PressA = data[:,1]*1e3 \n",
    "FlowA = data[:,2]*1e-6/60\n",
    "VolA = data[:,3]*1e-6\n",
    "PressB = data[:,4]*1e3\n",
    "FlowB = data[:,5]*1e-6/60\n",
    "VolB = data[:,6]*1e-6 \n",
    "\n",
    "# FIGURE WITH ALL DATA\n",
    "\n",
    "# %matplotlib inline \n",
    "%matplotlib qt  \n",
    "fig=plt.figure(1)\n",
    "\n",
    "ax1 = fig.add_subplot(211)\n",
    "ax1.set_ylabel('pressure [Pa]')\n",
    "ax1.set_title('Upstream and downstream pressure')\n",
    "ax1.plot(Time,PressA,label=\"upstream pressure\")\n",
    "ax1.plot(Time,PressB,label=\"downstream pressure\")\n",
    "plt.legend(loc=\"best\")\n",
    "\n",
    "#check volumes for eventual leaks\n",
    "\n",
    "ax2 = fig.add_subplot(212)\n",
    "ax2.set_ylabel('volume [m^3]')\n",
    "ax2.set_title('Upstream volume')\n",
    "ax2.set_xlabel('time (s)')\n",
    "ax2.plot(Time,VolA)\n",
    "# plt.plot(Time,VolB)\n",
    "\n",
    "\n",
    "#only pressure cycles\n",
    "# s1825\n",
    "# Start=7200 \n",
    "# End=7680\n",
    "\n",
    "#s1827\n",
    "Start=9538 \n",
    "End=10000\n",
    "\n",
    "PressA=PressA[np.where(np.logical_and(Time>=Start, Time<=End))]\n",
    "PressB=PressB[np.where(np.logical_and(Time>=Start, Time<=End))]\n",
    "FlowA=FlowA[np.where(np.logical_and(Time>=Start, Time<=End))]\n",
    "FlowB=FlowB[np.where(np.logical_and(Time>=Start, Time<=End))]\n",
    "VolA=VolA[np.where(np.logical_and(Time>=Start, Time<=End))]\n",
    "VolB=VolB[np.where(np.logical_and(Time>=Start, Time<=End))]\n",
    "Time=Time[np.where(np.logical_and(Time>=Start, Time<=End))]\n",
    "\n",
    "# ANOTHER FIGURE AFTER CROPPING \n",
    "fig=plt.figure(2)\n",
    "\n",
    "ax3 = fig.add_subplot(211)\n",
    "ax3.set_ylabel('pressure [Pa]')\n",
    "ax3.set_title('Upstream and downstream pressure')\n",
    "ax3.plot(Time,PressA,label=\"upstream pressure\")\n",
    "ax3.plot(Time,PressB,label=\"downstream pressure\")\n",
    "plt.legend(loc=\"best\")\n",
    "\n",
    "#check volumes for eventual leaks\n",
    "\n",
    "ax4 = fig.add_subplot(212)\n",
    "ax4.set_ylabel('volume [m^3]')\n",
    "ax4.set_title('Upstream volume')\n",
    "ax4.set_xlabel('time (s)')\n",
    "ax4.plot(Time,VolA)\n",
    "# plt.plot(Time,VolB)"
   ]
  },
  {
   "cell_type": "code",
   "execution_count": 138,
   "metadata": {},
   "outputs": [
    {
     "name": "stdout",
     "output_type": "stream",
     "text": [
      "0.016737628569540832\n"
     ]
    },
    {
     "data": {
      "text/plain": [
       "[<matplotlib.lines.Line2D at 0x1a3f4cee520>]"
      ]
     },
     "execution_count": 138,
     "metadata": {},
     "output_type": "execute_result"
    }
   ],
   "source": [
    "#test FFT\n",
    "\n",
    "ff = numpy.fft.fftfreq(len(tt), (tt[1]-tt[0]))   # assume uniform spacing\n",
    "Fyy = abs(numpy.fft.fft(yynoise))\n",
    "guess_freq = abs(ff[numpy.argmax(Fyy[1:])+1])\n",
    "print(guess_freq)\n",
    "\n",
    "plt.plot(Fyy)\n",
    "plt.plot(guess_freq,\"ok\")"
   ]
  },
  {
   "cell_type": "code",
   "execution_count": 130,
   "metadata": {},
   "outputs": [],
   "source": [
    "# FIT A SINE TO PRESSURE DATA \n",
    "#(https://stackoverflow.com/questions/16716302/how-do-i-fit-a-sine-curve-to-my-data-with-pylab-and-numpy)\n",
    "\n",
    "import numpy, scipy.optimize\n",
    "\n",
    "def fit_sin(tt, yy):\n",
    "    '''Fit sin to the input time sequence, and return fitting parameters \"amp\", \"omega\", \"phase\", \"offset\", \"freq\", \"period\" and \"fitfunc\"'''\n",
    "    tt = numpy.array(tt)\n",
    "    yy = numpy.array(yy)\n",
    "    ff = numpy.fft.fftfreq(len(tt), (tt[1]-tt[0]))   # assume uniform spacing\n",
    "    Fyy = abs(numpy.fft.fft(yy))\n",
    "    guess_freq = abs(ff[numpy.argmax(Fyy[1:])+1])   # excluding the zero frequency \"peak\", which is related to offset\n",
    "    guess_amp = numpy.std(yy) * 2.**0.5\n",
    "    guess_offset = numpy.mean(yy)\n",
    "    guess = numpy.array([guess_amp, 2.*numpy.pi*guess_freq, 0., guess_offset])\n",
    "\n",
    "    def sinfunc(t, A, w, p, c):  return A * numpy.sin(w*t + p) + c\n",
    "    popt, pcov = scipy.optimize.curve_fit(sinfunc, tt, yy, p0=guess)\n",
    "    A, w, p, c = popt\n",
    "    f = w/(2.*numpy.pi)\n",
    "    fitfunc = lambda t: A * numpy.sin(w*t + p) + c\n",
    "    return {\"amp\": A, \"omega\": w, \"phase\": p, \"offset\": c, \"freq\": f, \"period\": 1./f, \"fitfunc\": fitfunc, \"maxcov\": numpy.max(pcov), \"rawres\": (guess,popt,pcov)}"
   ]
  },
  {
   "cell_type": "code",
   "execution_count": 139,
   "metadata": {},
   "outputs": [
    {
     "name": "stdout",
     "output_type": "stream",
     "text": [
      "Amplitude[Pa]=149547.1179230998, Period[s]=60.18006955502736, phase[rad]=5.775939931241626, offset[Pa]=3254180.002221386, Max. Cov.=1968683.7706195775\n"
     ]
    }
   ],
   "source": [
    "import pylab as plt\n",
    "\n",
    "tt=Time\n",
    "yy=PressB\n",
    "\n",
    "res = fit_sin(tt, yy)\n",
    "print( \"Amplitude[Pa]=%(amp)s, Period[s]=%(period)s, phase[rad]=%(phase)s, offset[Pa]=%(offset)s, Max. Cov.=%(maxcov)s\" % res )\n",
    "\n",
    "plt.figure(3)\n",
    "\n",
    "plt.plot(tt,yy, \"ok\", label=\"original data\")\n",
    "plt.plot(tt, res[\"fitfunc\"](tt), \"r-\", label=\"fit\", linewidth=2)\n",
    "plt.legend(loc=\"best\")\n",
    "plt.show()"
   ]
  },
  {
   "cell_type": "markdown",
   "metadata": {},
   "source": [
    "I write down the results of the optimization step here\n",
    "\n",
    "s1825\n",
    "PA/Pups: Amplitude[Pa]=501691, Period[s]=60, phase[rad]=-27.757616021040967, offset[Pa]=3799896\n",
    "\n",
    "PB/Pds: Amplitude[Pa]=317377, Period[s]=60, phase[rad]=-22.584605874703765, offset[Pa]=3827054\n",
    "\n",
    "s1827\n",
    "PA/Pups: Amplitude[Pa]=501934, Period[s]=60, phase[rad]=3.9748107515790476, offset[Pa]=3300673\n",
    "\n",
    "PB/Pds: Amplitude[Pa]=149547, Period[s]=60, phase[rad]=5.775939931241626, offset[Pa]=3254180"
   ]
  },
  {
   "cell_type": "code",
   "execution_count": 170,
   "metadata": {},
   "outputs": [
    {
     "name": "stdout",
     "output_type": "stream",
     "text": [
      "s1825 A 0.6326144977685467 deltaphi -5.173010146337202\n",
      "s1827 A 0.2979415620380369 deltaphi -1.8011291796625786\n"
     ]
    }
   ],
   "source": [
    "r_ext=50/2000\n",
    "r_int=30/2000\n",
    "\n",
    "period = 60\n",
    "\n",
    "gain25=317377/501691\n",
    "gain27=149547/501934\n",
    "\n",
    "# I am not entirely sure if I did right with the phase shift units etc.\n",
    "\n",
    "dphase25=-27.757616021040967-(-22.584605874703765)\n",
    "dphase27=3.9748107515790476-5.775939931241626\n",
    "\n",
    "print (\"s1825\",\"A\",gain25)\n",
    "print (\"s1827\",\"A\",gain27)"
   ]
  },
  {
   "cell_type": "code",
   "execution_count": 171,
   "metadata": {},
   "outputs": [
    {
     "name": "stdout",
     "output_type": "stream",
     "text": [
      "s1825 beta_d 1.1240081930076943e-13 visc 0.0008925613516911413\n",
      "s1827 beta_d 1.1490012251946974e-13 visc 0.0008926308449651368\n"
     ]
    }
   ],
   "source": [
    "#on first execution run the following line:\n",
    "#conda install conda-forge::coolprop\n",
    "\n",
    "from CoolProp.CoolProp import PropsSI as pr\n",
    "\n",
    "#put here the right values of pressure and volume of pump B right before the oscillations\n",
    "P_1825=3.827e6 #Pa\n",
    "V_1825=238+12.71  #mL in the pump chamber + pipes/valves/cylindrical volume in the stationary sample\n",
    "P_1827=3.3e6 #Pa\n",
    "V_1827=245.3+10.64 #mL in the pump chamber + pipes/valves/cylindrical volume in the stationary sample\n",
    "\n",
    "# downstream reservoir storage \n",
    "betad25=pr('ISOTHERMAL_COMPRESSIBILITY','T',298,'P',P_1825,'water')*(V_1825)*1e-6 #m^3/Pa\n",
    "betad27=pr('ISOTHERMAL_COMPRESSIBILITY','T',298,'P',P_1827,'water')*(V_1827)*1e-6 #m^3/Pa\n",
    "\n",
    "visc25=pr('VISCOSITY','T',298,'P',P_1825,'water')\n",
    "visc27=pr('VISCOSITY','T',298,'P',P_1827,'water')\n",
    "\n",
    "print(\"s1825\",\"beta_d\",betad25,\"visc\",visc25)\n",
    "print(\"s1827\",\"beta_d\",betad27,\"visc\",visc27)"
   ]
  },
  {
   "cell_type": "code",
   "execution_count": 174,
   "metadata": {},
   "outputs": [
    {
     "name": "stdout",
     "output_type": "stream",
     "text": [
      "s1825 6.829086561710151e-19\n",
      "s1827 2.6676449365010998e-19\n"
     ]
    }
   ],
   "source": [
    "import math\n",
    "\n",
    "# Estimate of crack transmissivity kt (https://agupubs.onlinelibrary.wiley.com/doi/full/10.1002/2017JB014858), equation A4\n",
    "\n",
    "#rearranged by aretusini using cross sectional area at halfway the cylinder S=(r_ext+r_int)/2*2*pi*t \n",
    "#sample length L=r_ext-r_int \n",
    "# where t=thickness and therefore thickness * permeability is the hydraulic transmissivity of the thin layer on the rock surface\n",
    "\n",
    "# kt= 2*gain/sqrt(1-gain^2) * visc * beta_d / period * (r_ext-r_int)/(r_ext+r_int)\n",
    "\n",
    "kt25 = 2*gain25/math.sqrt(1-gain25**2) * visc25 * betad25 / period * (r_ext-r_int)/(r_ext+r_int)\n",
    "\n",
    "kt27 = 2*gain27/math.sqrt(1-gain27**2) * visc27 * betad27 / period * (r_ext-r_int)/(r_ext+r_int)\n",
    "\n",
    "print(\"s1825\",kt25)\n",
    "print(\"s1827\",kt27)"
   ]
  },
  {
   "cell_type": "code",
   "execution_count": 1,
   "metadata": {},
   "outputs": [],
   "source": [
    "# #TRY THIS TO SEE HOW CALCULATED BETA_D CHANGES WITH PRESSURE\n",
    "# #on first execution run the following line:\n",
    "# #conda install conda-forge::coolprop\n",
    "\n",
    "# from CoolProp.CoolProp import PropsSI as pr\n",
    "# import matplotlib.pyplot as plt\n",
    "# import numpy as np\n",
    "\n",
    "# # Saturation temperature of Water at 1 atm in K\n",
    "# pressures=[0.1,0.5,1,1.5,2,2.5,3,3.5,5,10]\n",
    "# pressures=np.array(pressures)*1e6\n",
    "\n",
    "# betaf=[]\n",
    "\n",
    "# for i in range(len(pressures)):\n",
    "#     betaf.append(pr('ISOTHERMAL_COMPRESSIBILITY','T',298,'P',pressures[i],'water'))\n",
    "    \n",
    "# print(betaf)\n",
    "# downstreambeta_s1825=np.array(betaf)*(12.71+200)*1e-6\n",
    "# downstreambeta_s1827=np.array(betaf)*(10.64+200)*1e-6\n",
    "\n",
    "# plt.plot(pressures,downstreambeta_s1825)\n",
    "# plt.plot(pressures,downstreambeta_s1827)"
   ]
  }
 ],
 "metadata": {
  "kernelspec": {
   "display_name": "Python 3",
   "language": "python",
   "name": "python3"
  },
  "language_info": {
   "codemirror_mode": {
    "name": "ipython",
    "version": 3
   },
   "file_extension": ".py",
   "mimetype": "text/x-python",
   "name": "python",
   "nbconvert_exporter": "python",
   "pygments_lexer": "ipython3",
   "version": "3.8.3"
  }
 },
 "nbformat": 4,
 "nbformat_minor": 4
}
